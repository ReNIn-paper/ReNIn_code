{
 "cells": [
  {
   "cell_type": "code",
   "execution_count": null,
   "metadata": {},
   "outputs": [],
   "source": [
    "from scipy import io as sio\n",
    "import numpy as np\n",
    "import matplotlib.pyplot as plt\n",
    "import matplotlib\n",
    "import matplotlib as mpl"
   ]
  },
  {
   "cell_type": "code",
   "execution_count": null,
   "metadata": {},
   "outputs": [],
   "source": [
    "!ls ../sample_img"
   ]
  },
  {
   "cell_type": "code",
   "execution_count": null,
   "metadata": {},
   "outputs": [],
   "source": [
    "ls ../dataset_1536x3072_aligned/F64_2/F64_04.png"
   ]
  },
  {
   "cell_type": "markdown",
   "metadata": {},
   "source": [
    "## grayscale inspect"
   ]
  },
  {
   "cell_type": "code",
   "execution_count": null,
   "metadata": {},
   "outputs": [],
   "source": [
    "import cv2\n",
    "import matplotlib.pyplot as plt\n",
    "gt_srgb = cv2.imread('../dataset_1536x3072_aligned/F64_2/F64_04.png')\n",
    "noisy_srgb = cv2.imread('../dataset_1536x3072_aligned/F01_2/F01_04.png')\n",
    "plt.subplot(1,2,1)\n",
    "plt.imshow(gt_srgb)\n",
    "plt.subplot(1,2,2)\n",
    "plt.imshow(noisy_srgb)"
   ]
  },
  {
   "cell_type": "code",
   "execution_count": null,
   "metadata": {},
   "outputs": [],
   "source": [
    "noise = gt_srgb - noisy_srgb\n",
    "plt.imshow(noise)"
   ]
  },
  {
   "cell_type": "code",
   "execution_count": null,
   "metadata": {},
   "outputs": [],
   "source": [
    "def correlation_noise(noisy_img, gt_img,top = 900, left=1500, width = 100,cal_range=8):\n",
    "    noise = noisy_img - gt_img\n",
    "    noise = noise - np.mean(noise)\n",
    "    noise_var = np.var(noise)\n",
    "    print('noise_var: ', noise_var)\n",
    "    noise_patch = noise[top:top+width, left:left+width]\n",
    "    cov = np.zeros((cal_range*2+1, cal_range*2+1))\n",
    "    for shift_x in range(-cal_range,cal_range+1):\n",
    "        for shift_y in range(-cal_range,cal_range+1):\n",
    "            bottom = top + width\n",
    "            right = left + width\n",
    "            shift_noise_patch = noise[top+shift_y:bottom+shift_y, left+shift_x:right+shift_x]\n",
    "            \n",
    "            \n",
    "            cov[cal_range+shift_y][cal_range+shift_x] = np.mean((noise_patch)*(shift_noise_patch))\n",
    "    cor = cov/noise_var\n",
    "    return  cor\n",
    "    "
   ]
  },
  {
   "cell_type": "code",
   "execution_count": null,
   "metadata": {},
   "outputs": [],
   "source": [
    "# cor1 = correlation_noise(noisy_srgb,gt_srgb,top=950,left=2500,width=100)"
   ]
  },
  {
   "cell_type": "code",
   "execution_count": null,
   "metadata": {},
   "outputs": [],
   "source": [
    "from matplotlib import markers\n",
    "\n",
    "\n",
    "plt.imshow((noise)[800:1000,400:600])\n",
    "top = 50\n",
    "left = 50\n",
    "width = 100\n",
    "# draw box\n",
    "alpha = 1.0\n",
    "linewidth = 4\n",
    "plt.plot([left,left+width],[top,top],'r',alpha=alpha,linewidth=linewidth)\n",
    "plt.plot([left,left],[top,top+width],'r',alpha=alpha,linewidth=linewidth)\n",
    "plt.plot([left,left+width],[top+width,top+width],'r',alpha=alpha,linewidth=linewidth)\n",
    "plt.plot([left+width,left+width],[top,top+width],'r',alpha=alpha,linewidth=linewidth)\n",
    "\n",
    "left = left + 10\n",
    "top = top + 10\n",
    "plt.plot([left,left+width],[top,top],'g',alpha=alpha,linewidth=linewidth)\n",
    "plt.plot([left,left],[top,top+width],'g',alpha=alpha,linewidth=linewidth)\n",
    "plt.plot([left,left+width],[top+width,top+width],'g',alpha=alpha,linewidth=linewidth)\n",
    "plt.plot([left+width,left+width],[top,top+width],'g',alpha=alpha,linewidth=linewidth)\n",
    "plt.axis('off')"
   ]
  },
  {
   "cell_type": "code",
   "execution_count": null,
   "metadata": {},
   "outputs": [],
   "source": [
    "top = 80\n",
    "left = 80\n",
    "width = 1200\n",
    "cal_range=4#8\n",
    "cor1 = correlation_noise(noisy_srgb,gt_srgb,top=top,left=left,width=width,cal_range=cal_range)\n",
    "plt.imshow(noisy_srgb[top:top+width, left:left+width])#, :\\])\n",
    "plt.axis('off')\n",
    "# plt.imshow(gt_srgb[1000:1256, 2400:2656, :])"
   ]
  },
  {
   "cell_type": "code",
   "execution_count": null,
   "metadata": {},
   "outputs": [],
   "source": [
    "# import PIL\n",
    "# save_img = PIL.Image.fromarray(gt_srgb[top:top+width, left:left+width, :]).convert('L')\n",
    "# save_img.save('./F64_01.eps', format='eps', dpi=300)\n",
    "# save_img = PIL.Image.fromarray(noisy_srgb[top:top+width, left:left+width, :]).convert('L')\n",
    "# save_img.save('./F01_01.eps', format='eps', dpi=300)\n",
    "# noise=noisy_srgb[top:top+width, left:left+width, :]-gt_srgb[top:top+width, left:left+width, :]\n",
    "# save_img = PIL.Image.fromarray(noise).convert('L')\n",
    "# save_img.save('./F01_F64_noise.eps', format='eps', dpi=300)"
   ]
  },
  {
   "cell_type": "code",
   "execution_count": null,
   "metadata": {},
   "outputs": [],
   "source": [
    "\n",
    "mid = cor1.shape[0]//2\n",
    "cor1[mid-2:mid+2,mid-2:mid+2]"
   ]
  },
  {
   "cell_type": "code",
   "execution_count": null,
   "metadata": {},
   "outputs": [],
   "source": [
    "matplotlib.colors?"
   ]
  },
  {
   "cell_type": "code",
   "execution_count": null,
   "metadata": {},
   "outputs": [],
   "source": [
    "small_cor1 = cor1#[4:-4,4:-4]\n",
    "\n",
    "mpl.rcParams['font.family'] = 'libertine'\n",
    "mpl.rcParams['font.size'] = 20\n",
    "# plt.imshow(abs(small_cor1), norm=matplotlib.colors.LogNorm(),cmap='Reds')\n",
    "plt.imshow(abs(small_cor1), norm=matplotlib.colors.SymLogNorm(6e-2),cmap='Reds')\n",
    "plt.colorbar()\n",
    "plt.clim(1e-2,1)\n",
    "plt.title('correlation',loc='right')\n",
    "# plt.xlabel('x',loc='left')\n",
    "mid = small_cor1.shape[0]//2\n",
    "print(\"mid : \", mid)\n",
    "if cal_range == 8:\n",
    "    range_list = [-8,-4,0,4,8]\n",
    "elif cal_range == 4:\n",
    "    range_list = [-4,-2,0,2,4]\n",
    "else :\n",
    "    raise ValueError('cal_range should be 4 or 8')\n",
    "plt.xticks([0, mid//2, mid,mid + mid//2,  small_cor1.shape[0]-1], range_list)\n",
    "plt.yticks([0, mid//2, mid,mid + mid//2,  small_cor1.shape[0]-1], range_list)\n",
    "plt.savefig('SEM3_correlation_figure.pdf', format='pdf', dpi=600, bbox_inches='tight')"
   ]
  },
  {
   "cell_type": "code",
   "execution_count": null,
   "metadata": {},
   "outputs": [],
   "source": []
  },
  {
   "cell_type": "code",
   "execution_count": null,
   "metadata": {},
   "outputs": [],
   "source": [
    "mid = cor1.shape[0]//2\n",
    "print(\"mid : \", mid)\n",
    "plt.plot(cor1[mid,mid:], label='correlation',marker='o',color='darkred')\n",
    "plt.semilogy(base=10)\n",
    "# plt.hlines(5e-2, xmin=0, xmax=cor1[mid:,mid].shape[0], label='0.1', colors='r', linestyles='dashed')\n",
    "plt.title('correlation',loc='left')\n",
    "# plt.ylabel('correlation',loc='top', rotation=0)\n",
    "# plt.xlabel('distance')\n",
    "plt.ylim(1e-2,1.5)\n",
    "\n",
    "plt.savefig('SEM3_correlation_plot.pdf', format='pdf', dpi=600, bbox_inches='tight')\n",
    "# plt.savefig('F01_F64_correlation_plot.png', format='png')"
   ]
  },
  {
   "cell_type": "code",
   "execution_count": null,
   "metadata": {},
   "outputs": [],
   "source": [
    "cor1.shape"
   ]
  },
  {
   "cell_type": "code",
   "execution_count": null,
   "metadata": {},
   "outputs": [],
   "source": [
    "matplotlib.font_manager.findSystemFonts(fontpaths=None, fontext='ttf')"
   ]
  },
  {
   "cell_type": "code",
   "execution_count": null,
   "metadata": {},
   "outputs": [],
   "source": [
    "import matplotlib.font_manager\n",
    "matplotlib.font_manager.findSystemFonts(fontpaths=None, fontext='ttf')"
   ]
  },
  {
   "cell_type": "code",
   "execution_count": null,
   "metadata": {},
   "outputs": [],
   "source": [
    "!ls /usr/share/fonts/truetype/libertine/LinLibertine_aDRS.ttf"
   ]
  },
  {
   "cell_type": "code",
   "execution_count": null,
   "metadata": {},
   "outputs": [],
   "source": []
  },
  {
   "cell_type": "code",
   "execution_count": null,
   "metadata": {},
   "outputs": [],
   "source": [
    "print(mpl.rcParams['font.family'])\n",
    "print(mpl.get_cachedir())"
   ]
  },
  {
   "cell_type": "code",
   "execution_count": null,
   "metadata": {},
   "outputs": [],
   "source": [
    "!ls /home/hyunwoong/.cache/matplotlib/fontlist-v330.json"
   ]
  },
  {
   "cell_type": "code",
   "execution_count": null,
   "metadata": {},
   "outputs": [],
   "source": [
    "\n",
    "\n",
    "print(mpl.matplotlib_fname())"
   ]
  },
  {
   "cell_type": "code",
   "execution_count": null,
   "metadata": {},
   "outputs": [],
   "source": [
    "!ls /home/hyunwoong/miniconda3/envs/GAN_n2n/lib/python3.10/site-packages/matplotlib/mpl-data/matplotlibrc"
   ]
  },
  {
   "cell_type": "code",
   "execution_count": null,
   "metadata": {},
   "outputs": [],
   "source": []
  }
 ],
 "metadata": {
  "kernelspec": {
   "display_name": "GAN_n2n",
   "language": "python",
   "name": "python3"
  },
  "language_info": {
   "codemirror_mode": {
    "name": "ipython",
    "version": 3
   },
   "file_extension": ".py",
   "mimetype": "text/x-python",
   "name": "python",
   "nbconvert_exporter": "python",
   "pygments_lexer": "ipython3",
   "version": "3.9.13"
  },
  "orig_nbformat": 4
 },
 "nbformat": 4,
 "nbformat_minor": 2
}
